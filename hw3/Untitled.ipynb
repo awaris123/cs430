{
 "cells": [
  {
   "cell_type": "code",
   "execution_count": 1,
   "metadata": {},
   "outputs": [],
   "source": [
    " def quickSort(arr,low=None,high=None):\n",
    "    \n",
    "    def partition(arr,low,pivot): \n",
    "        i = low-1          \n",
    "        pVal = arr[pivot]      \n",
    "  \n",
    "        for j in range(low , pivot): \n",
    "            if arr[j] < pVal:  \n",
    "                i = i+1 \n",
    "                arr[i],arr[j] = arr[j],arr[i] \n",
    "  \n",
    "        arr[i+1],arr[pivot] = arr[pivot],arr[i+1] \n",
    "        return i+1\n",
    "    \n",
    "    low = (0 if low is None else low)\n",
    "    high = (len(arr)-1 if high is None else high)\n",
    "    \n",
    "    if low < high: \n",
    "\n",
    "        p = partition(arr,low,high) \n",
    "        quickSort(arr, low, p-1) \n",
    "        quickSort(arr, p+1, high)\n",
    "        \n",
    "    return arr"
   ]
  },
  {
   "cell_type": "code",
   "execution_count": 2,
   "metadata": {},
   "outputs": [],
   "source": [
    "class Heap:\n",
    "    def __init__(self, key=lambda x:x):\n",
    "        self.data = []\n",
    "        self.key  = key\n",
    "\n",
    "    @staticmethod\n",
    "    def _parent(idx):\n",
    "        return (idx-1)//2\n",
    "        \n",
    "    @staticmethod\n",
    "    def _left(idx):\n",
    "        return idx*2+1\n",
    "\n",
    "    @staticmethod\n",
    "    def _right(idx):\n",
    "        return idx*2+2\n",
    "    \n",
    "    def heapify(self, idx=0):\n",
    "        while True:\n",
    "            l = Heap._left(idx)\n",
    "            r = Heap._right(idx)\n",
    "            maxidx = idx\n",
    "            if l < len(self) and self.key(self.data[l]) > self.key(self.data[idx]):\n",
    "                maxidx = l\n",
    "            if r < len(self) and self.key(self.data[r]) > self.key(self.data[maxidx]):\n",
    "                maxidx = r\n",
    "            if maxidx != idx:\n",
    "                self.data[idx], self.data[maxidx] = self.data[maxidx], self.data[idx]\n",
    "                idx = maxidx\n",
    "            else:\n",
    "                break\n",
    "            \n",
    "    def add(self, x):\n",
    "        self.data.append(x)\n",
    "        i = len(self.data) - 1\n",
    "        p = Heap._parent(i)\n",
    "        \n",
    "        while i > 0 and self.key(self.data[p]) < self.key(self.data[i]):\n",
    "            self.data[i], self.data[p] = self.data[p], self.data[i]\n",
    "            i = p\n",
    "            p = Heap._parent(i)\n",
    "        \n",
    "    def peek(self):\n",
    "        return self.data[0]\n",
    "\n",
    "    def pop(self):\n",
    "        ret = self.data[0]\n",
    "        self.data[0] = self.data[len(self.data)-1]\n",
    "        del self.data[len(self.data)-1]\n",
    "        self.heapify()\n",
    "        return ret\n",
    "    \n",
    "    def __bool__(self):\n",
    "        return len(self.data) > 0\n",
    "\n",
    "    def __len__(self):\n",
    "        return len(self.data)\n",
    "\n",
    "    def __repr__(self):\n",
    "        return repr(self.data)\n",
    "    \n",
    "def heapSort(arr):\n",
    "    storage = Heap(lambda x:-x)\n",
    "    for i in arr:\n",
    "        storage.add(i)\n",
    "    lst = []\n",
    "    while storage:\n",
    "        lst.append(storage.pop())\n",
    "    return lst\n",
    "        "
   ]
  },
  {
   "cell_type": "code",
   "execution_count": 3,
   "metadata": {},
   "outputs": [],
   "source": [
    "import time\n",
    "def timeIt(func, data):\n",
    "\n",
    "    start = ((time.time() * 1000))\n",
    "    func(data)\n",
    "    stop = ((time.time() * 1000))\n",
    "    return (stop-start), len(data)"
   ]
  },
  {
   "cell_type": "code",
   "execution_count": 4,
   "metadata": {},
   "outputs": [
    {
     "data": {
      "text/plain": [
       "(0.013671875, 9)"
      ]
     },
     "execution_count": 4,
     "metadata": {},
     "output_type": "execute_result"
    }
   ],
   "source": [
    "timeIt(quickSort, [3, 5, 7, 98, 74, 13, 45, 14, 67])"
   ]
  },
  {
   "cell_type": "code",
   "execution_count": 5,
   "metadata": {},
   "outputs": [],
   "source": [
    "import random\n",
    "def createBatch():\n",
    "    def genTest(size=100):\n",
    "        return [random.randint(-9999, 9999)for _ in range(size)]\n",
    "    return [genTest(size) for size in range(0, 100000, 10000)]\n",
    "    "
   ]
  },
  {
   "cell_type": "code",
   "execution_count": 6,
   "metadata": {},
   "outputs": [],
   "source": [
    "import matplotlib.pyplot as plt\n",
    "hTimes = []\n",
    "hLens = []\n",
    "qTimes = []\n",
    "qLens = []\n",
    "for test in createBatch():\n",
    "    timeH, lenH = (timeIt(heapSort, test))\n",
    "    hTimes.append(timeH)\n",
    "    hLens.append(lenH)\n",
    "    timeQ, lenQ = (timeIt(quickSort, test))\n",
    "    qTimes.append(timeQ)\n",
    "    qLens.append(lenQ)\n",
    "\n",
    "    "
   ]
  },
  {
   "cell_type": "code",
   "execution_count": 14,
   "metadata": {},
   "outputs": [
    {
     "data": {
      "text/plain": [
       "[<matplotlib.lines.Line2D at 0x7f513a0f9860>]"
      ]
     },
     "execution_count": 14,
     "metadata": {},
     "output_type": "execute_result"
    },
    {
     "data": {
      "image/png": "[encoded data removed]",
      "text/plain": [
       "<Figure size 432x288 with 1 Axes>"
      ]
     },
     "metadata": {
      "needs_background": "light"
     },
     "output_type": "display_data"
    }
   ],
   "source": [
    "plt.close()\n",
    "plt.ylim(0, 2500)\n",
    "plt.xlabel(\"input size\")\n",
    "plt.ylabel(\"Time(ms)\")\n",
    "plt.plot(qLens, qTimes)\n"
   ]
  },
  {
   "cell_type": "code",
   "execution_count": 15,
   "metadata": {},
   "outputs": [
    {
     "data": {
      "text/plain": [
       "[<matplotlib.lines.Line2D at 0x7f513a201ef0>]"
      ]
     },
     "execution_count": 15,
     "metadata": {},
     "output_type": "execute_result"
    },
    {
     "data": {
      "image/png": "[encoded data removed]",
      "text/plain": [
       "<Figure size 432x288 with 1 Axes>"
      ]
     },
     "metadata": {
      "needs_background": "light"
     },
     "output_type": "display_data"
    }
   ],
   "source": [
    "plt.close()\n",
    "plt.ylim(0, 2500)\n",
    "plt.xlabel(\"input size\")\n",
    "plt.ylabel(\"Time(ms)\")\n",
    "plt.plot(hLens, hTimes)"
   ]
  },
  {
   "cell_type": "code",
   "execution_count": null,
   "metadata": {},
   "outputs": [],
   "source": []
  }
 ],
 "metadata": {
  "kernelspec": {
   "display_name": "Python 3",
   "language": "python",
   "name": "python3"
  },
  "language_info": {
   "codemirror_mode": {
    "name": "ipython",
    "version": 3
   },
   "file_extension": ".py",
   "mimetype": "text/x-python",
   "name": "python",
   "nbconvert_exporter": "python",
   "pygments_lexer": "ipython3",
   "version": "3.6.9"
  }
 },
 "nbformat": 4,
 "nbformat_minor": 4
}
