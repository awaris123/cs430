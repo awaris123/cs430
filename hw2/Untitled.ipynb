{
 "cells": [
  {
   "cell_type": "markdown",
   "metadata": {},
   "source": [
    "### Name: Aakef Waris\n",
    "### Email: awaris@hawk.iit.edu\n",
    "### A-Number: A20420535\n",
    "### Seat Number: 62\n",
    "\n",
    "# Homework 2 Maximum Subarray Problem"
   ]
  },
  {
   "cell_type": "markdown",
   "metadata": {},
   "source": [
    "## Psuedocode\n"
   ]
  },
  {
   "cell_type": "markdown",
   "metadata": {},
   "source": [
    "\n",
    "int[] func findMaxSubArr(int[] arr){\n",
    "    \n",
    "    int hi = -999999;\n",
    "    int length = arr.length;\n",
    "    int[] endpts = [];\n",
    "    for(int start = 0; start < length; i++){\n",
    "        int total = 0;\n",
    "        for(int index = start; index < length; index++){\n",
    "            total += arr[index]\n",
    "            if(total > max){\n",
    "                hi = total\n",
    "                endpts = [start, index]\n",
    "            }\n",
    "        }\n",
    "    }\n",
    "    \n",
    "    return endpts\n",
    "\n",
    "}"
   ]
  },
  {
   "cell_type": "markdown",
   "metadata": {},
   "source": [
    "## Python Code"
   ]
  },
  {
   "cell_type": "code",
   "execution_count": 74,
   "metadata": {},
   "outputs": [],
   "source": [
    "def findMaxSubArr(arr):\n",
    "    # initial results\n",
    "    hi = -999999\n",
    "    endpts = ()\n",
    "    \n",
    "    ## Go through each index as a starting point - O(N)\n",
    "    for start in range(len(arr)):\n",
    "        total = 0\n",
    "        ## Calculate the running sum from each start index to the end - O(N)\n",
    "        for idx in range(start, len(arr)):\n",
    "            total += arr[idx]\n",
    "            ## if running total from start to current index is greater than hi\n",
    "            ## then update hi and endpoints tuple - O(1)\n",
    "            if total > hi:\n",
    "                hi = total\n",
    "                endpts = (start, idx)\n",
    "    \n",
    "    # function is O(N^2)\n",
    "    # return original array, endpoints of max sub array, as well as sum of max sub array\n",
    "    return arr, endpts, hi\n",
    "            "
   ]
  },
  {
   "cell_type": "markdown",
   "metadata": {},
   "source": [
    "## Tests for Python Code/Results"
   ]
  },
  {
   "cell_type": "code",
   "execution_count": 75,
   "metadata": {},
   "outputs": [
    {
     "name": "stdout",
     "output_type": "stream",
     "text": [
      "Test 1:\n",
      "\n",
      "Original Array : [-122, -329, -974, 758, -926, 775, -191, 836, -971, 25]\n",
      "Max Interval   : (5, 7)\n",
      "Interval Sum   : 1420\n",
      "-----------------------------------------------------------------------------------------\n",
      "\n",
      "Test 2:\n",
      "\n",
      "Original Array : [-645, 657, -297, 990, -256, 160, 355, 929, -140, 559]\n",
      "Max Interval   : (1, 9)\n",
      "Interval Sum   : 2957\n",
      "-----------------------------------------------------------------------------------------\n",
      "\n",
      "Test 3:\n",
      "\n",
      "Original Array : [-327, 29, -292, -318, -675, -522, -465, 122, -121, -352]\n",
      "Max Interval   : (7, 7)\n",
      "Interval Sum   : 122\n",
      "-----------------------------------------------------------------------------------------\n",
      "\n",
      "Test 4:\n",
      "\n",
      "Original Array : [-236, -2, 61, -223, 775, -957, -578, 823, -364, -27]\n",
      "Max Interval   : (7, 7)\n",
      "Interval Sum   : 823\n",
      "-----------------------------------------------------------------------------------------\n",
      "\n",
      "Test 5:\n",
      "\n",
      "Original Array : [-777, -244, -157, 936, -844, 680, -576, 441, -258, -327]\n",
      "Max Interval   : (3, 3)\n",
      "Interval Sum   : 936\n",
      "-----------------------------------------------------------------------------------------\n",
      "\n",
      "Test 6:\n",
      "\n",
      "Original Array : [-325, 343, -171, -727, 519, 900, -461, 157, -704, -99]\n",
      "Max Interval   : (4, 5)\n",
      "Interval Sum   : 1419\n",
      "-----------------------------------------------------------------------------------------\n",
      "\n",
      "Test 7:\n",
      "\n",
      "Original Array : [25, 470, 108, 884, -648, 903, 132, -646, -198, 773]\n",
      "Max Interval   : (0, 6)\n",
      "Interval Sum   : 1874\n",
      "-----------------------------------------------------------------------------------------\n",
      "\n",
      "Test 8:\n",
      "\n",
      "Original Array : [-210, -707, -806, -569, 456, -150, 894, -555, -677, -704]\n",
      "Max Interval   : (4, 6)\n",
      "Interval Sum   : 1200\n",
      "-----------------------------------------------------------------------------------------\n",
      "\n",
      "Test 9:\n",
      "\n",
      "Original Array : [-397, -806, 957, -896, 516, 153, 309, -113, 52, 123]\n",
      "Max Interval   : (2, 9)\n",
      "Interval Sum   : 1101\n",
      "-----------------------------------------------------------------------------------------\n",
      "\n",
      "Test 10:\n",
      "\n",
      "Original Array : [-909, 669, -731, -179, 979, 352, -853, 514, -536, -979]\n",
      "Max Interval   : (4, 5)\n",
      "Interval Sum   : 1331\n",
      "-----------------------------------------------------------------------------------------\n",
      "\n"
     ]
    }
   ],
   "source": [
    "import random\n",
    "tests = []\n",
    "for _ in range(10):\n",
    "    tests.append([ random.randrange(-999, 1000)for i in range(0,10)])\n",
    "for i,test in enumerate(tests):\n",
    "    print(\"Test \" + str(i+1) + \":\")\n",
    "    print(\"\")\n",
    "    result = findMaxSubArr(test)\n",
    "    print(\"Original Array :\", result[0])\n",
    "    print(\"Max Interval   :\", result[1])\n",
    "    print(\"Interval Sum   :\", result[2])\n",
    "    print(\"-----------------------------------------------------------------------------------------\")\n",
    "    print(\"\")"
   ]
  }
 ],
 "metadata": {
  "kernelspec": {
   "display_name": "Python 3",
   "language": "python",
   "name": "python3"
  },
  "language_info": {
   "codemirror_mode": {
    "name": "ipython",
    "version": 3
   },
   "file_extension": ".py",
   "mimetype": "text/x-python",
   "name": "python",
   "nbconvert_exporter": "python",
   "pygments_lexer": "ipython3",
   "version": "3.6.9"
  }
 },
 "nbformat": 4,
 "nbformat_minor": 4
}
